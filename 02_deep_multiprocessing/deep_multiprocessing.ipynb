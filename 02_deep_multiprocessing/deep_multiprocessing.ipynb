{
 "cells": [
  {
   "cell_type": "markdown",
   "metadata": {},
   "source": [
    "## Paralelizando nuestro Código"
   ]
  },
  {
   "cell_type": "markdown",
   "metadata": {},
   "source": [
    "### Determinar la cantidad de procesadores de cómputo en un sistema"
   ]
  },
  {
   "cell_type": "markdown",
   "metadata": {},
   "source": [
    "Podemos encontrar la cantidad de procesadores en un sistema para maximizar nuestros recursos y rendimiento. Para esta demostración, es más sencillo contar solo todos los núcleos físicos y no los núcleos \"lógicos\" que resultan de las capacidades de subprocesos múltiples simultáneos (SMT) de la CPU."
   ]
  },
  {
   "cell_type": "code",
   "execution_count": null,
   "metadata": {
    "pycharm": {
     "is_executing": true
    }
   },
   "outputs": [],
   "source": [
    "import psutil\n",
    "\n",
    "# logical =  False (no contamos los núcleos lógicos de SMT)\n",
    "num_procs = psutil.cpu_count(logical=False)\n",
    "\n",
    "print(num_procs)"
   ]
  },
  {
   "cell_type": "markdown",
   "metadata": {},
   "source": [
    "### Multiprocessing: `Process` class"
   ]
  },
  {
   "cell_type": "markdown",
   "metadata": {},
   "source": [
    "La clase Process es un método para generar procesos explícitamente y, a menudo, se denominan funciones predefinidas."
   ]
  },
  {
   "cell_type": "markdown",
   "metadata": {},
   "source": [
    "### Example: Using `multiprocess.Process` to Parallelize our Program"
   ]
  },
  {
   "cell_type": "code",
   "execution_count": 16,
   "metadata": {},
   "outputs": [
    {
     "name": "stdout",
     "output_type": "stream",
     "text": [
      "['ERH5c', 'RsocO', 'EfvNZ', '0JvQN', 'mWg2z', 'stOJZ', 'mtHmI', 'IGgYf', '6w1w3', 'ma9RU', '92jr3', 'wJn7v', 'vuGnm', 'iZsel', 'Z178J', 'WEzmZ']\n"
     ]
    }
   ],
   "source": [
    "import multiprocessing as mp\n",
    "import random\n",
    "import string\n",
    "\n",
    "random.seed(123)\n",
    "\n",
    "n = 16  # numero de iteraciones\n",
    "\n",
    "# Definimos un output queue\n",
    "# Queue permite la comunicación entre procesos utilizando datos Pickle-able (métodos .put () y .get ())\n",
    "# Nuestros procesos solo necesitan comunicarse cuando agregan su salida\n",
    "output = mp.Queue()\n",
    "\n",
    "\n",
    "# definir una función de ejemplo: ingresaremos la cola para que se recopile nuestra salida\n",
    "def rand_string(length, output):\n",
    "    \"\"\" Generates a random string of numbers, lower- and uppercase chars. \"\"\"\n",
    "    rand_str = ''.join(random.choice(\n",
    "        string.ascii_lowercase\n",
    "        + string.ascii_uppercase\n",
    "        + string.digits)\n",
    "                       for i in range(length))\n",
    "    output.put(rand_str)\n",
    "\n",
    "\n",
    "# Configurar una lista de procesos que queremos ejecutar\n",
    "# mp.Process se llama para generar un proceso\n",
    "# target = la función que nos gustaría ejecutar\n",
    "# args = tupla de argumentos aceptados por la función\n",
    "processes = [mp.Process(target=rand_string, args=(5, output)) for x in range(n)]\n",
    "\n",
    "# Cada proceso necesita ser inicializado\n",
    "for p in processes:\n",
    "    p.start()\n",
    "\n",
    "# Esperamos hasta que cada proceso haya terminado antes de continuar\n",
    "for p in processes:\n",
    "    p.join()\n",
    "\n",
    "# Obtener los resultados del proceso de la cola de salida\n",
    "results = [output.get() for p in processes]\n",
    "\n",
    "print(results)"
   ]
  },
  {
   "cell_type": "markdown",
   "metadata": {},
   "source": [
    "#### Orden de los resultados"
   ]
  },
  {
   "cell_type": "markdown",
   "metadata": {},
   "source": [
    "La cola de salida recibe datos de forma desordenada, solo sigue el orden en el que los procesos colocan datos en la cola. Esto puede ser problemático si importa el orden de los elementos en el resultado.\n",
    "\n",
    "Afortunadamente, se puede realizar un seguimiento del rango de cada proceso para facilitar la clasificación del orden de los resultados."
   ]
  },
  {
   "cell_type": "code",
   "execution_count": 17,
   "metadata": {},
   "outputs": [
    {
     "name": "stdout",
     "output_type": "stream",
     "text": [
      "[(0, 'CTdAx'), (1, 'LEgE2'), (2, '7rxK2'), (3, 'ZobUz'), (4, 'TyZli'), (5, 'YqiCS'), (6, 'KyiWL'), (7, 'fwK3E'), (8, 'HarPS'), (9, 'tMnQD'), (10, 'LJTZJ'), (11, 'qHyvy'), (12, 'BZXxE'), (13, 'KtZQj'), (14, 'MJXbD'), (15, 'Tjz36')]\n"
     ]
    }
   ],
   "source": [
    "import multiprocessing as mp\n",
    "import random\n",
    "import string\n",
    "\n",
    "random.seed(123)\n",
    "\n",
    "output = mp.Queue()\n",
    "\n",
    "\n",
    "# Creemos un parámetro de rango para que podamos asignar un rango a cada resultado.\n",
    "def rand_string(length, rank, output):\n",
    "    \"\"\" Generates a random string of numbers, lower- and uppercase chars. \"\"\"\n",
    "    rand_str = ''.join(random.choice(\n",
    "        string.ascii_lowercase\n",
    "        + string.ascii_uppercase\n",
    "        + string.digits)\n",
    "                       for i in range(length))\n",
    "    output.put((rank, rand_str))\n",
    "\n",
    "\n",
    "processes = [mp.Process(target=rand_string, args=(5, x, output)) for x in range(n)]\n",
    "\n",
    "for p in processes:\n",
    "    p.start()\n",
    "\n",
    "for p in processes:\n",
    "    p.join()\n",
    "\n",
    "results = [output.get() for p in processes]\n",
    "\n",
    "# ordenar los resultados por el rango de cada proceso\n",
    "results.sort()\n",
    "# results = [r[1] for r in results]\n",
    "\n",
    "print(results)"
   ]
  },
  {
   "cell_type": "markdown",
   "metadata": {
    "collapsed": true
   },
   "source": [
    "## `Pool` class: Asignar datos a un worker processes"
   ]
  },
  {
   "cell_type": "markdown",
   "metadata": {},
   "source": [
    "La clase Pool aplica o asigna funciones a datos preexistentes que pueden dividirse en fragmentos.\n",
    "\n",
    " - Agregar más procesos de trabajo nos permite procesar múltiples fragmentos en paralelo.\n",
    " - Cuantos más trabajadores, más pequeño se puede hacer cada trozo.\n",
    " - Cuanto más pequeño sea el trozo, más rápido se puede completar nuestro trabajo."
   ]
  },
  {
   "cell_type": "markdown",
   "metadata": {},
   "source": [
    "Definamos una función muy simple que devuelve un número elevado a la potencia de 3."
   ]
  },
  {
   "cell_type": "code",
   "execution_count": 18,
   "metadata": {},
   "outputs": [],
   "source": [
    "def cube(x):\n",
    "    return x ** 3"
   ]
  },
  {
   "cell_type": "markdown",
   "metadata": {},
   "source": [
    "A continuación, ¡reuniremos nuestro grupo de trabajadores! Debe haber un trabajador por núcleo de procesador."
   ]
  },
  {
   "cell_type": "code",
   "execution_count": 19,
   "metadata": {},
   "outputs": [],
   "source": [
    "# ¡Definamos nuestro grupo de trabajadores!\n",
    "\n",
    "pool = mp.Pool(processes=num_procs)"
   ]
  },
  {
   "cell_type": "markdown",
   "metadata": {},
   "source": [
    "Usaremos el método `pool.apply ()` para aplicar una función en bucle a través de un rango de entradas.\n",
    "\n",
    "- el método `apply ()` requiere una función y una tupla como argumento\n",
    "- la función es `cube`\n",
    "- la función se llama repetidamente para cada entrada\n",
    "- el argumento tupla es `(x,)`"
   ]
  },
  {
   "cell_type": "code",
   "execution_count": 20,
   "metadata": {},
   "outputs": [
    {
     "name": "stdout",
     "output_type": "stream",
     "text": [
      "[0, 1, 8, 27, 64, 125, 216, 343, 512, 729, 1000, 1331, 1728, 2197, 2744, 3375, 4096, 4913, 5832, 6859, 8000, 9261, 10648, 12167, 13824, 15625, 17576, 19683, 21952, 24389, 27000, 29791, 32768, 35937, 39304, 42875, 46656, 50653, 54872, 59319, 64000, 68921, 74088, 79507, 85184, 91125, 97336, 103823, 110592, 117649, 125000, 132651, 140608, 148877, 157464, 166375, 175616, 185193, 195112, 205379, 216000, 226981, 238328, 250047, 262144, 274625, 287496, 300763, 314432, 328509, 343000, 357911, 373248, 389017, 405224, 421875, 438976, 456533, 474552, 493039, 512000, 531441, 551368, 571787, 592704, 614125, 636056, 658503, 681472, 704969, 729000, 753571, 778688, 804357, 830584, 857375, 884736, 912673, 941192, 970299, 1000000, 1030301, 1061208, 1092727, 1124864, 1157625, 1191016, 1225043, 1259712, 1295029, 1331000, 1367631, 1404928, 1442897, 1481544, 1520875, 1560896, 1601613, 1643032, 1685159, 1728000, 1771561, 1815848, 1860867, 1906624, 1953125, 2000376, 2048383, 2097152, 2146689, 2197000, 2248091, 2299968, 2352637, 2406104, 2460375, 2515456, 2571353, 2628072, 2685619, 2744000, 2803221, 2863288, 2924207, 2985984, 3048625, 3112136, 3176523, 3241792, 3307949, 3375000, 3442951, 3511808, 3581577, 3652264, 3723875, 3796416, 3869893, 3944312, 4019679, 4096000, 4173281, 4251528, 4330747, 4410944, 4492125, 4574296, 4657463, 4741632, 4826809, 4913000, 5000211, 5088448, 5177717, 5268024, 5359375, 5451776, 5545233, 5639752, 5735339, 5832000, 5929741, 6028568, 6128487, 6229504, 6331625, 6434856, 6539203, 6644672, 6751269, 6859000, 6967871, 7077888, 7189057, 7301384, 7414875, 7529536, 7645373, 7762392, 7880599, 8000000, 8120601, 8242408, 8365427, 8489664, 8615125, 8741816, 8869743, 8998912, 9129329, 9261000, 9393931, 9528128, 9663597, 9800344, 9938375, 10077696, 10218313, 10360232, 10503459, 10648000, 10793861, 10941048, 11089567, 11239424, 11390625, 11543176, 11697083, 11852352, 12008989, 12167000, 12326391, 12487168, 12649337, 12812904, 12977875, 13144256, 13312053, 13481272, 13651919, 13824000, 13997521, 14172488, 14348907, 14526784, 14706125, 14886936, 15069223, 15252992, 15438249, 15625000, 15813251, 16003008, 16194277, 16387064]\n"
     ]
    }
   ],
   "source": [
    "# Genera los cubos de 0-255\n",
    "\n",
    "results = [pool.apply(cube, args=(x,)) for x in range(0, 255)]\n",
    "print(results)"
   ]
  },
  {
   "cell_type": "markdown",
   "metadata": {},
   "source": [
    "Ahora apliquemos el método `pool.map ()` para aplicar una función sobre un rango de datos. Esto puede sonar muy similar a `pool.apply ()` pero el orden de las operaciones es ligeramente diferente.\n",
    "\n",
    "- el `map()` requiere una función y datos para aplicar la función a\n",
    "- la función es `cube`\n",
    "- los datos son la tupla `range(0,256)`\n",
    "- la función se aplica a cada elemento de la tupla"
   ]
  },
  {
   "cell_type": "code",
   "execution_count": 22,
   "metadata": {},
   "outputs": [
    {
     "name": "stdout",
     "output_type": "stream",
     "text": [
      "[0, 1, 8, 27, 64, 125, 216, 343, 512, 729, 1000, 1331, 1728, 2197, 2744, 3375, 4096, 4913, 5832, 6859, 8000, 9261, 10648, 12167, 13824, 15625, 17576, 19683, 21952, 24389, 27000, 29791, 32768, 35937, 39304, 42875, 46656, 50653, 54872, 59319, 64000, 68921, 74088, 79507, 85184, 91125, 97336, 103823, 110592, 117649, 125000, 132651, 140608, 148877, 157464, 166375, 175616, 185193, 195112, 205379, 216000, 226981, 238328, 250047, 262144, 274625, 287496, 300763, 314432, 328509, 343000, 357911, 373248, 389017, 405224, 421875, 438976, 456533, 474552, 493039, 512000, 531441, 551368, 571787, 592704, 614125, 636056, 658503, 681472, 704969, 729000, 753571, 778688, 804357, 830584, 857375, 884736, 912673, 941192, 970299, 1000000, 1030301, 1061208, 1092727, 1124864, 1157625, 1191016, 1225043, 1259712, 1295029, 1331000, 1367631, 1404928, 1442897, 1481544, 1520875, 1560896, 1601613, 1643032, 1685159, 1728000, 1771561, 1815848, 1860867, 1906624, 1953125, 2000376, 2048383, 2097152, 2146689, 2197000, 2248091, 2299968, 2352637, 2406104, 2460375, 2515456, 2571353, 2628072, 2685619, 2744000, 2803221, 2863288, 2924207, 2985984, 3048625, 3112136, 3176523, 3241792, 3307949, 3375000, 3442951, 3511808, 3581577, 3652264, 3723875, 3796416, 3869893, 3944312, 4019679, 4096000, 4173281, 4251528, 4330747, 4410944, 4492125, 4574296, 4657463, 4741632, 4826809, 4913000, 5000211, 5088448, 5177717, 5268024, 5359375, 5451776, 5545233, 5639752, 5735339, 5832000, 5929741, 6028568, 6128487, 6229504, 6331625, 6434856, 6539203, 6644672, 6751269, 6859000, 6967871, 7077888, 7189057, 7301384, 7414875, 7529536, 7645373, 7762392, 7880599, 8000000, 8120601, 8242408, 8365427, 8489664, 8615125, 8741816, 8869743, 8998912, 9129329, 9261000, 9393931, 9528128, 9663597, 9800344, 9938375, 10077696, 10218313, 10360232, 10503459, 10648000, 10793861, 10941048, 11089567, 11239424, 11390625, 11543176, 11697083, 11852352, 12008989, 12167000, 12326391, 12487168, 12649337, 12812904, 12977875, 13144256, 13312053, 13481272, 13651919, 13824000, 13997521, 14172488, 14348907, 14526784, 14706125, 14886936, 15069223, 15252992, 15438249, 15625000, 15813251, 16003008, 16194277, 16387064]\n"
     ]
    }
   ],
   "source": [
    "# Genera los cubos de 0-255\n",
    "\n",
    "# Observe cómo este código no requiere comprensión de la lista y es más limpio\n",
    "\n",
    "x = range(0, 255)\n",
    "#print(x)\n",
    "\n",
    "results = pool.map(cube, x)\n",
    "print(results)"
   ]
  },
  {
   "cell_type": "markdown",
   "metadata": {},
   "source": [
    "## Synchronous and Asynchronous Computing\n",
    "\n",
    "Los métodos `.apply()` y `.map()` son ejemplos de computación síncrona.\n",
    "\n",
    "Hay variantes asincrónicas de estos métodos que no esperan y devuelven resultados en el orden en que terminaron los subprocesos."
   ]
  },
  {
   "cell_type": "code",
   "execution_count": 24,
   "metadata": {},
   "outputs": [
    {
     "name": "stdout",
     "output_type": "stream",
     "text": [
      "[<multiprocessing.pool.ApplyResult object at 0x7fc89fa8e950>, <multiprocessing.pool.ApplyResult object at 0x7fc89fa8ea50>, <multiprocessing.pool.ApplyResult object at 0x7fc89fa8eb50>, <multiprocessing.pool.ApplyResult object at 0x7fc89fa8ec10>, <multiprocessing.pool.ApplyResult object at 0x7fc89fa8ecd0>, <multiprocessing.pool.ApplyResult object at 0x7fc89fa8ee10>, <multiprocessing.pool.ApplyResult object at 0x7fc89fa8eed0>, <multiprocessing.pool.ApplyResult object at 0x7fc89fa8ef90>, <multiprocessing.pool.ApplyResult object at 0x7fc89fa90090>, <multiprocessing.pool.ApplyResult object at 0x7fc89fa8edd0>, <multiprocessing.pool.ApplyResult object at 0x7fc89fa90190>, <multiprocessing.pool.ApplyResult object at 0x7fc89fa90250>, <multiprocessing.pool.ApplyResult object at 0x7fc89fa90310>, <multiprocessing.pool.ApplyResult object at 0x7fc89fa903d0>, <multiprocessing.pool.ApplyResult object at 0x7fc89fa90490>, <multiprocessing.pool.ApplyResult object at 0x7fc89fa90550>, <multiprocessing.pool.ApplyResult object at 0x7fc89fa90610>, <multiprocessing.pool.ApplyResult object at 0x7fc89fa906d0>, <multiprocessing.pool.ApplyResult object at 0x7fc89fa90790>, <multiprocessing.pool.ApplyResult object at 0x7fc89fa90850>, <multiprocessing.pool.ApplyResult object at 0x7fc89fa90910>, <multiprocessing.pool.ApplyResult object at 0x7fc89fa909d0>, <multiprocessing.pool.ApplyResult object at 0x7fc89fa90a90>, <multiprocessing.pool.ApplyResult object at 0x7fc89fa90b50>, <multiprocessing.pool.ApplyResult object at 0x7fc89fa90c10>, <multiprocessing.pool.ApplyResult object at 0x7fc89fa90cd0>, <multiprocessing.pool.ApplyResult object at 0x7fc89fa90d90>, <multiprocessing.pool.ApplyResult object at 0x7fc89fa90e50>, <multiprocessing.pool.ApplyResult object at 0x7fc89fa90f10>, <multiprocessing.pool.ApplyResult object at 0x7fc89fa90fd0>, <multiprocessing.pool.ApplyResult object at 0x7fc89fa920d0>, <multiprocessing.pool.ApplyResult object at 0x7fc89fa92190>, <multiprocessing.pool.ApplyResult object at 0x7fc89fa92250>, <multiprocessing.pool.ApplyResult object at 0x7fc89fa92310>, <multiprocessing.pool.ApplyResult object at 0x7fc89fa923d0>, <multiprocessing.pool.ApplyResult object at 0x7fc89fa92490>, <multiprocessing.pool.ApplyResult object at 0x7fc89fa92550>, <multiprocessing.pool.ApplyResult object at 0x7fc89fa92610>, <multiprocessing.pool.ApplyResult object at 0x7fc89fa926d0>, <multiprocessing.pool.ApplyResult object at 0x7fc89fa92790>, <multiprocessing.pool.ApplyResult object at 0x7fc89fa92850>, <multiprocessing.pool.ApplyResult object at 0x7fc89fa92910>, <multiprocessing.pool.ApplyResult object at 0x7fc89fa929d0>, <multiprocessing.pool.ApplyResult object at 0x7fc89fa92a90>, <multiprocessing.pool.ApplyResult object at 0x7fc89fa92b50>, <multiprocessing.pool.ApplyResult object at 0x7fc89fa92c10>, <multiprocessing.pool.ApplyResult object at 0x7fc89fa92cd0>, <multiprocessing.pool.ApplyResult object at 0x7fc89fa92d90>, <multiprocessing.pool.ApplyResult object at 0x7fc89fa92e50>, <multiprocessing.pool.ApplyResult object at 0x7fc89fa92f10>, <multiprocessing.pool.ApplyResult object at 0x7fc89fa92fd0>, <multiprocessing.pool.ApplyResult object at 0x7fc89fa980d0>, <multiprocessing.pool.ApplyResult object at 0x7fc89fa98190>, <multiprocessing.pool.ApplyResult object at 0x7fc89fa98250>, <multiprocessing.pool.ApplyResult object at 0x7fc89fa98310>, <multiprocessing.pool.ApplyResult object at 0x7fc89fa983d0>, <multiprocessing.pool.ApplyResult object at 0x7fc89fa98490>, <multiprocessing.pool.ApplyResult object at 0x7fc89fa98550>, <multiprocessing.pool.ApplyResult object at 0x7fc89fa98610>, <multiprocessing.pool.ApplyResult object at 0x7fc89fa986d0>, <multiprocessing.pool.ApplyResult object at 0x7fc89fa98790>, <multiprocessing.pool.ApplyResult object at 0x7fc89fa98850>, <multiprocessing.pool.ApplyResult object at 0x7fc89fa98910>, <multiprocessing.pool.ApplyResult object at 0x7fc89fa989d0>, <multiprocessing.pool.ApplyResult object at 0x7fc89fa98a90>, <multiprocessing.pool.ApplyResult object at 0x7fc89fa98b50>, <multiprocessing.pool.ApplyResult object at 0x7fc89f6cdf10>, <multiprocessing.pool.ApplyResult object at 0x7fc89f6cde10>, <multiprocessing.pool.ApplyResult object at 0x7fc89f6cdb50>, <multiprocessing.pool.ApplyResult object at 0x7fc89f9fb510>, <multiprocessing.pool.ApplyResult object at 0x7fc89fa98bd0>, <multiprocessing.pool.ApplyResult object at 0x7fc89fa98c90>, <multiprocessing.pool.ApplyResult object at 0x7fc89fa98d50>, <multiprocessing.pool.ApplyResult object at 0x7fc89fa98e10>, <multiprocessing.pool.ApplyResult object at 0x7fc89fa98ed0>, <multiprocessing.pool.ApplyResult object at 0x7fc89fa98f90>, <multiprocessing.pool.ApplyResult object at 0x7fc89fa9c090>, <multiprocessing.pool.ApplyResult object at 0x7fc89fa9c150>, <multiprocessing.pool.ApplyResult object at 0x7fc89fa9c210>, <multiprocessing.pool.ApplyResult object at 0x7fc89fa9c2d0>, <multiprocessing.pool.ApplyResult object at 0x7fc89fa9c390>, <multiprocessing.pool.ApplyResult object at 0x7fc89fa9c450>, <multiprocessing.pool.ApplyResult object at 0x7fc89fa9c510>, <multiprocessing.pool.ApplyResult object at 0x7fc89fa9c5d0>, <multiprocessing.pool.ApplyResult object at 0x7fc89fa9c690>, <multiprocessing.pool.ApplyResult object at 0x7fc89fa9c750>, <multiprocessing.pool.ApplyResult object at 0x7fc89fa9c810>, <multiprocessing.pool.ApplyResult object at 0x7fc89fa9c8d0>, <multiprocessing.pool.ApplyResult object at 0x7fc89fa9c990>, <multiprocessing.pool.ApplyResult object at 0x7fc89fa9ca50>, <multiprocessing.pool.ApplyResult object at 0x7fc89fa9cb10>, <multiprocessing.pool.ApplyResult object at 0x7fc89fa9cbd0>, <multiprocessing.pool.ApplyResult object at 0x7fc89fa9cc90>, <multiprocessing.pool.ApplyResult object at 0x7fc89fa9cd50>, <multiprocessing.pool.ApplyResult object at 0x7fc89fa9ce10>, <multiprocessing.pool.ApplyResult object at 0x7fc89fa9ced0>, <multiprocessing.pool.ApplyResult object at 0x7fc89fa9cf90>, <multiprocessing.pool.ApplyResult object at 0x7fc89faa2090>, <multiprocessing.pool.ApplyResult object at 0x7fc89faa2150>, <multiprocessing.pool.ApplyResult object at 0x7fc89faa2210>, <multiprocessing.pool.ApplyResult object at 0x7fc89faa22d0>, <multiprocessing.pool.ApplyResult object at 0x7fc89faa2390>, <multiprocessing.pool.ApplyResult object at 0x7fc89faa2450>, <multiprocessing.pool.ApplyResult object at 0x7fc89faa2510>, <multiprocessing.pool.ApplyResult object at 0x7fc89faa25d0>, <multiprocessing.pool.ApplyResult object at 0x7fc89faa2690>, <multiprocessing.pool.ApplyResult object at 0x7fc89faa2750>, <multiprocessing.pool.ApplyResult object at 0x7fc89faa2810>, <multiprocessing.pool.ApplyResult object at 0x7fc89faa28d0>, <multiprocessing.pool.ApplyResult object at 0x7fc89faa2990>, <multiprocessing.pool.ApplyResult object at 0x7fc89faa2a50>, <multiprocessing.pool.ApplyResult object at 0x7fc89faa2b10>, <multiprocessing.pool.ApplyResult object at 0x7fc89faa2bd0>, <multiprocessing.pool.ApplyResult object at 0x7fc89faa2c90>, <multiprocessing.pool.ApplyResult object at 0x7fc89faa2d50>, <multiprocessing.pool.ApplyResult object at 0x7fc89faa2e10>, <multiprocessing.pool.ApplyResult object at 0x7fc89faa2ed0>, <multiprocessing.pool.ApplyResult object at 0x7fc89faa2f90>, <multiprocessing.pool.ApplyResult object at 0x7fc89faa7090>, <multiprocessing.pool.ApplyResult object at 0x7fc89faa7150>, <multiprocessing.pool.ApplyResult object at 0x7fc89faa7210>, <multiprocessing.pool.ApplyResult object at 0x7fc89faa72d0>, <multiprocessing.pool.ApplyResult object at 0x7fc89faa7390>, <multiprocessing.pool.ApplyResult object at 0x7fc89faa7450>, <multiprocessing.pool.ApplyResult object at 0x7fc89faa7510>, <multiprocessing.pool.ApplyResult object at 0x7fc89faa75d0>, <multiprocessing.pool.ApplyResult object at 0x7fc89faa7690>, <multiprocessing.pool.ApplyResult object at 0x7fc89faa7750>, <multiprocessing.pool.ApplyResult object at 0x7fc89faa7810>, <multiprocessing.pool.ApplyResult object at 0x7fc89faa78d0>, <multiprocessing.pool.ApplyResult object at 0x7fc89faa7990>, <multiprocessing.pool.ApplyResult object at 0x7fc89faa7a50>, <multiprocessing.pool.ApplyResult object at 0x7fc89faa7b10>, <multiprocessing.pool.ApplyResult object at 0x7fc89faa7bd0>, <multiprocessing.pool.ApplyResult object at 0x7fc89faa7c90>, <multiprocessing.pool.ApplyResult object at 0x7fc89faa7d50>, <multiprocessing.pool.ApplyResult object at 0x7fc89faa7e10>, <multiprocessing.pool.ApplyResult object at 0x7fc89faa7ed0>, <multiprocessing.pool.ApplyResult object at 0x7fc89faa7f90>, <multiprocessing.pool.ApplyResult object at 0x7fc89faad090>, <multiprocessing.pool.ApplyResult object at 0x7fc89faad150>, <multiprocessing.pool.ApplyResult object at 0x7fc89faad210>, <multiprocessing.pool.ApplyResult object at 0x7fc89faad2d0>, <multiprocessing.pool.ApplyResult object at 0x7fc89faad390>, <multiprocessing.pool.ApplyResult object at 0x7fc89faad450>, <multiprocessing.pool.ApplyResult object at 0x7fc89faad510>, <multiprocessing.pool.ApplyResult object at 0x7fc89faad5d0>, <multiprocessing.pool.ApplyResult object at 0x7fc89faad690>, <multiprocessing.pool.ApplyResult object at 0x7fc89faad750>, <multiprocessing.pool.ApplyResult object at 0x7fc89faad810>, <multiprocessing.pool.ApplyResult object at 0x7fc89faad8d0>, <multiprocessing.pool.ApplyResult object at 0x7fc89faad990>, <multiprocessing.pool.ApplyResult object at 0x7fc89faada50>, <multiprocessing.pool.ApplyResult object at 0x7fc89faadb10>, <multiprocessing.pool.ApplyResult object at 0x7fc89faadbd0>, <multiprocessing.pool.ApplyResult object at 0x7fc89faadc90>, <multiprocessing.pool.ApplyResult object at 0x7fc89faadd50>, <multiprocessing.pool.ApplyResult object at 0x7fc89faade10>, <multiprocessing.pool.ApplyResult object at 0x7fc89faaded0>, <multiprocessing.pool.ApplyResult object at 0x7fc89faadf90>, <multiprocessing.pool.ApplyResult object at 0x7fc89fab3090>, <multiprocessing.pool.ApplyResult object at 0x7fc89fab3150>, <multiprocessing.pool.ApplyResult object at 0x7fc89fab3210>, <multiprocessing.pool.ApplyResult object at 0x7fc89fab32d0>, <multiprocessing.pool.ApplyResult object at 0x7fc89fab3390>, <multiprocessing.pool.ApplyResult object at 0x7fc89fab3450>, <multiprocessing.pool.ApplyResult object at 0x7fc89fab3510>, <multiprocessing.pool.ApplyResult object at 0x7fc89fab35d0>, <multiprocessing.pool.ApplyResult object at 0x7fc89fab3690>, <multiprocessing.pool.ApplyResult object at 0x7fc89fab3750>, <multiprocessing.pool.ApplyResult object at 0x7fc89fab3810>, <multiprocessing.pool.ApplyResult object at 0x7fc89fab38d0>, <multiprocessing.pool.ApplyResult object at 0x7fc89fab3990>, <multiprocessing.pool.ApplyResult object at 0x7fc89fab3a50>, <multiprocessing.pool.ApplyResult object at 0x7fc89fab3b10>, <multiprocessing.pool.ApplyResult object at 0x7fc89fab3bd0>, <multiprocessing.pool.ApplyResult object at 0x7fc89fab3c90>, <multiprocessing.pool.ApplyResult object at 0x7fc89fab3d50>, <multiprocessing.pool.ApplyResult object at 0x7fc89fab3e10>, <multiprocessing.pool.ApplyResult object at 0x7fc89fab3ed0>, <multiprocessing.pool.ApplyResult object at 0x7fc89fab3f90>, <multiprocessing.pool.ApplyResult object at 0x7fc89fab9090>, <multiprocessing.pool.ApplyResult object at 0x7fc89fab9150>, <multiprocessing.pool.ApplyResult object at 0x7fc89fab9210>, <multiprocessing.pool.ApplyResult object at 0x7fc89fab92d0>, <multiprocessing.pool.ApplyResult object at 0x7fc89fab9390>, <multiprocessing.pool.ApplyResult object at 0x7fc89fab9450>, <multiprocessing.pool.ApplyResult object at 0x7fc89fab9510>, <multiprocessing.pool.ApplyResult object at 0x7fc89fab95d0>, <multiprocessing.pool.ApplyResult object at 0x7fc89fab9690>, <multiprocessing.pool.ApplyResult object at 0x7fc89fab9750>, <multiprocessing.pool.ApplyResult object at 0x7fc89fab9810>, <multiprocessing.pool.ApplyResult object at 0x7fc89fab98d0>, <multiprocessing.pool.ApplyResult object at 0x7fc89fab9990>, <multiprocessing.pool.ApplyResult object at 0x7fc89fab9a50>, <multiprocessing.pool.ApplyResult object at 0x7fc89fab9b10>, <multiprocessing.pool.ApplyResult object at 0x7fc89fab9bd0>, <multiprocessing.pool.ApplyResult object at 0x7fc89fab9c90>, <multiprocessing.pool.ApplyResult object at 0x7fc89fab9d50>, <multiprocessing.pool.ApplyResult object at 0x7fc89fab9e10>, <multiprocessing.pool.ApplyResult object at 0x7fc89fab9ed0>, <multiprocessing.pool.ApplyResult object at 0x7fc89fab9f90>, <multiprocessing.pool.ApplyResult object at 0x7fc89fabe090>, <multiprocessing.pool.ApplyResult object at 0x7fc89fabe150>, <multiprocessing.pool.ApplyResult object at 0x7fc89fabe210>, <multiprocessing.pool.ApplyResult object at 0x7fc89fabe2d0>, <multiprocessing.pool.ApplyResult object at 0x7fc89fabe390>, <multiprocessing.pool.ApplyResult object at 0x7fc89fabe450>, <multiprocessing.pool.ApplyResult object at 0x7fc89fabe510>, <multiprocessing.pool.ApplyResult object at 0x7fc89fabe5d0>, <multiprocessing.pool.ApplyResult object at 0x7fc89fabe690>, <multiprocessing.pool.ApplyResult object at 0x7fc89fabe750>, <multiprocessing.pool.ApplyResult object at 0x7fc89fabe810>, <multiprocessing.pool.ApplyResult object at 0x7fc89fabe8d0>, <multiprocessing.pool.ApplyResult object at 0x7fc89fabe990>, <multiprocessing.pool.ApplyResult object at 0x7fc89fabea50>, <multiprocessing.pool.ApplyResult object at 0x7fc89fabeb10>, <multiprocessing.pool.ApplyResult object at 0x7fc89fabebd0>, <multiprocessing.pool.ApplyResult object at 0x7fc89fabec90>, <multiprocessing.pool.ApplyResult object at 0x7fc89fabed50>, <multiprocessing.pool.ApplyResult object at 0x7fc89fabee10>, <multiprocessing.pool.ApplyResult object at 0x7fc89fabeed0>, <multiprocessing.pool.ApplyResult object at 0x7fc89fabef90>, <multiprocessing.pool.ApplyResult object at 0x7fc89fac3090>, <multiprocessing.pool.ApplyResult object at 0x7fc89fac3150>, <multiprocessing.pool.ApplyResult object at 0x7fc89fac3210>, <multiprocessing.pool.ApplyResult object at 0x7fc89fac32d0>, <multiprocessing.pool.ApplyResult object at 0x7fc89fac3390>, <multiprocessing.pool.ApplyResult object at 0x7fc89fac3450>, <multiprocessing.pool.ApplyResult object at 0x7fc89fac3510>, <multiprocessing.pool.ApplyResult object at 0x7fc89fac35d0>, <multiprocessing.pool.ApplyResult object at 0x7fc89fac3690>, <multiprocessing.pool.ApplyResult object at 0x7fc89fac3750>, <multiprocessing.pool.ApplyResult object at 0x7fc89fac3810>, <multiprocessing.pool.ApplyResult object at 0x7fc89fac38d0>, <multiprocessing.pool.ApplyResult object at 0x7fc89fac3990>, <multiprocessing.pool.ApplyResult object at 0x7fc89fac3a50>, <multiprocessing.pool.ApplyResult object at 0x7fc89fac3b10>, <multiprocessing.pool.ApplyResult object at 0x7fc89fac3bd0>, <multiprocessing.pool.ApplyResult object at 0x7fc89fac3c90>, <multiprocessing.pool.ApplyResult object at 0x7fc89fac3d50>, <multiprocessing.pool.ApplyResult object at 0x7fc89fac3e10>, <multiprocessing.pool.ApplyResult object at 0x7fc89fac3ed0>, <multiprocessing.pool.ApplyResult object at 0x7fc89fac3f90>, <multiprocessing.pool.ApplyResult object at 0x7fc89fac9090>, <multiprocessing.pool.ApplyResult object at 0x7fc89fac9150>, <multiprocessing.pool.ApplyResult object at 0x7fc89fac9210>, <multiprocessing.pool.ApplyResult object at 0x7fc89fac92d0>, <multiprocessing.pool.ApplyResult object at 0x7fc89fac9390>, <multiprocessing.pool.ApplyResult object at 0x7fc89fac9450>, <multiprocessing.pool.ApplyResult object at 0x7fc89fac9510>, <multiprocessing.pool.ApplyResult object at 0x7fc89fac95d0>, <multiprocessing.pool.ApplyResult object at 0x7fc89fac9690>, <multiprocessing.pool.ApplyResult object at 0x7fc89fac9750>, <multiprocessing.pool.ApplyResult object at 0x7fc89fac9810>]\n"
     ]
    }
   ],
   "source": [
    "# Método asincrónico\n",
    "\n",
    "results = [pool.apply_async(cube, args=(x,)) for x in range(0, 255)]\n",
    "print(results)"
   ]
  },
  {
   "cell_type": "markdown",
   "metadata": {},
   "source": [
    "No hay necesidad de preocuparse. El resultado de este método asincrónico es una lista de objetos en sus direcciones de memoria. Esto ocurre porque el método `apply_async` devuelve un objeto` AsyncResult`. Los objetos en realidad están 'encurtidos' y deben extraerse con el método de encurtido `.get()`.\n",
    "\n",
    "¡También hay algunos métodos interesantes asociados con `AsyncResult`!"
   ]
  },
  {
   "cell_type": "code",
   "execution_count": 25,
   "metadata": {},
   "outputs": [
    {
     "name": "stdout",
     "output_type": "stream",
     "text": [
      "[True, True, True, True, True, True, True, True, True, True, True, True, True, True, True, True, True, True, True, True, True, True, True, True, True, True, True, True, True, True, True, True, True, True, True, True, True, True, True, True, True, True, True, True, True, True, True, True, True, True, True, True, True, True, True, True, True, True, True, True, True, True, True, True, True, True, True, True, True, True, True, True, True, True, True, True, True, True, True, True, True, True, True, True, True, True, True, True, True, True, True, True, True, True, True, True, True, True, True, True, True, True, True, True, True, True, True, True, True, True, True, True, True, True, True, True, True, True, True, True, True, True, True, True, True, True, True, True, True, True, True, True, True, True, True, True, True, True, True, True, True, True, True, True, True, True, True, True, True, True, True, True, True, True, True, True, True, True, True, True, True, True, True, True, True, True, True, True, True, True, True, True, True, True, True, True, True, True, True, True, True, True, True, True, True, True, True, True, True, True, True, True, True, True, True, True, True, True, True, True, True, True, True, True, True, True, True, True, True, True, True, True, True, True, True, True, True, True, True, True, True, True, True, True, True, True, True, True, True, True, True, True, True, True, True, True, True, True, True, True, True, True, True, True, True, True, True, True, True, True, True, True, True, True, True]\n"
     ]
    }
   ],
   "source": [
    "# Podemos comprobar si estos procesos asincrónicos han finalizado\n",
    "\n",
    "ready = [p.ready() for p in results]\n",
    "print(ready)"
   ]
  },
  {
   "cell_type": "code",
   "execution_count": 26,
   "metadata": {},
   "outputs": [
    {
     "name": "stdout",
     "output_type": "stream",
     "text": [
      "[True, True, True, True, True, True, True, True, True, True, True, True, True, True, True, True, True, True, True, True, True, True, True, True, True, True, True, True, True, True, True, True, True, True, True, True, True, True, True, True, True, True, True, True, True, True, True, True, True, True, True, True, True, True, True, True, True, True, True, True, True, True, True, True, True, True, True, True, True, True, True, True, True, True, True, True, True, True, True, True, True, True, True, True, True, True, True, True, True, True, True, True, True, True, True, True, True, True, True, True, True, True, True, True, True, True, True, True, True, True, True, True, True, True, True, True, True, True, True, True, True, True, True, True, True, True, True, True, True, True, True, True, True, True, True, True, True, True, True, True, True, True, True, True, True, True, True, True, True, True, True, True, True, True, True, True, True, True, True, True, True, True, True, True, True, True, True, True, True, True, True, True, True, True, True, True, True, True, True, True, True, True, True, True, True, True, True, True, True, True, True, True, True, True, True, True, True, True, True, True, True, True, True, True, True, True, True, True, True, True, True, True, True, True, True, True, True, True, True, True, True, True, True, True, True, True, True, True, True, True, True, True, True, True, True, True, True, True, True, True, True, True, True, True, True, True, True, True, True, True, True, True, True, True, True]\n"
     ]
    }
   ],
   "source": [
    "# También podemos ver si cada proceso fue exitoso, es decir, ¡sin errores!\n",
    "\n",
    "success = [p.successful() for p in results]\n",
    "print(success)"
   ]
  },
  {
   "cell_type": "code",
   "execution_count": 11,
   "metadata": {},
   "outputs": [
    {
     "name": "stdout",
     "output_type": "stream",
     "text": [
      "[0, 1, 8, 27, 64, 125, 216, 343, 512, 729, 1000, 1331, 1728, 2197, 2744, 3375, 4096, 4913, 5832, 6859, 8000, 9261, 10648, 12167, 13824, 15625, 17576, 19683, 21952, 24389, 27000, 29791, 32768, 35937, 39304, 42875, 46656, 50653, 54872, 59319, 64000, 68921, 74088, 79507, 85184, 91125, 97336, 103823, 110592, 117649, 125000, 132651, 140608, 148877, 157464, 166375, 175616, 185193, 195112, 205379, 216000, 226981, 238328, 250047, 262144, 274625, 287496, 300763, 314432, 328509, 343000, 357911, 373248, 389017, 405224, 421875, 438976, 456533, 474552, 493039, 512000, 531441, 551368, 571787, 592704, 614125, 636056, 658503, 681472, 704969, 729000, 753571, 778688, 804357, 830584, 857375, 884736, 912673, 941192, 970299, 1000000, 1030301, 1061208, 1092727, 1124864, 1157625, 1191016, 1225043, 1259712, 1295029, 1331000, 1367631, 1404928, 1442897, 1481544, 1520875, 1560896, 1601613, 1643032, 1685159, 1728000, 1771561, 1815848, 1860867, 1906624, 1953125, 2000376, 2048383, 2097152, 2146689, 2197000, 2248091, 2299968, 2352637, 2406104, 2460375, 2515456, 2571353, 2628072, 2685619, 2744000, 2803221, 2863288, 2924207, 2985984, 3048625, 3112136, 3176523, 3241792, 3307949, 3375000, 3442951, 3511808, 3581577, 3652264, 3723875, 3796416, 3869893, 3944312, 4019679, 4096000, 4173281, 4251528, 4330747, 4410944, 4492125, 4574296, 4657463, 4741632, 4826809, 4913000, 5000211, 5088448, 5177717, 5268024, 5359375, 5451776, 5545233, 5639752, 5735339, 5832000, 5929741, 6028568, 6128487, 6229504, 6331625, 6434856, 6539203, 6644672, 6751269, 6859000, 6967871, 7077888, 7189057, 7301384, 7414875, 7529536, 7645373, 7762392, 7880599, 8000000, 8120601, 8242408, 8365427, 8489664, 8615125, 8741816, 8869743, 8998912, 9129329, 9261000, 9393931, 9528128, 9663597, 9800344, 9938375, 10077696, 10218313, 10360232, 10503459, 10648000, 10793861, 10941048, 11089567, 11239424, 11390625, 11543176, 11697083, 11852352, 12008989, 12167000, 12326391, 12487168, 12649337, 12812904, 12977875, 13144256, 13312053, 13481272, 13651919, 13824000, 13997521, 14172488, 14348907, 14526784, 14706125, 14886936, 15069223, 15252992, 15438249, 15625000, 15813251, 16003008, 16194277, 16387064]\n"
     ]
    }
   ],
   "source": [
    "# ¡Los métodos .get() devuelven los resultados!\n",
    "# Solo tenga en cuenta que es posible que su resultado asincrónico aún no esté terminado\n",
    "\n",
    "output = [p.get() for p in results]\n",
    "print(output)"
   ]
  },
  {
   "cell_type": "markdown",
   "metadata": {},
   "source": [
    "Puede notar que el orden parece correcto. Esto se debe a que cada proceso no se genera al mismo tiempo; hay gastos generales involucrados, y para trabajadores idénticos que toman el mismo tiempo para completar sus tareas, el orden en el que generan a menudo determina el orden en que terminan. Solo recuerda **el pedido no está garantizado**."
   ]
  },
  {
   "cell_type": "code",
   "execution_count": 27,
   "metadata": {},
   "outputs": [],
   "source": [
    "# asegúrese de que su grupo de trabajadores esté cerrado una vez que haya terminado\n",
    "\n",
    "pool.close()"
   ]
  },
  {
   "cell_type": "markdown",
   "metadata": {},
   "source": [
    "Uno puede evitar usar .close () en un objeto `Pool` usando:\n",
    "\n",
    "```\n",
    "with mp.Pool(processes = num_procs) as pool:\n",
    "```\n",
    "\n",
    "¡Probemos eso!"
   ]
  },
  {
   "cell_type": "code",
   "execution_count": 28,
   "metadata": {},
   "outputs": [
    {
     "name": "stdout",
     "output_type": "stream",
     "text": [
      "[0, 1, 8, 27, 64, 125, 216, 343, 512, 729, 1000, 1331, 1728, 2197, 2744, 3375, 4096, 4913, 5832, 6859, 8000, 9261, 10648, 12167, 13824, 15625, 17576, 19683, 21952, 24389, 27000, 29791, 32768, 35937, 39304, 42875, 46656, 50653, 54872, 59319, 64000, 68921, 74088, 79507, 85184, 91125, 97336, 103823, 110592, 117649, 125000, 132651, 140608, 148877, 157464, 166375, 175616, 185193, 195112, 205379, 216000, 226981, 238328, 250047, 262144, 274625, 287496, 300763, 314432, 328509, 343000, 357911, 373248, 389017, 405224, 421875, 438976, 456533, 474552, 493039, 512000, 531441, 551368, 571787, 592704, 614125, 636056, 658503, 681472, 704969, 729000, 753571, 778688, 804357, 830584, 857375, 884736, 912673, 941192, 970299, 1000000, 1030301, 1061208, 1092727, 1124864, 1157625, 1191016, 1225043, 1259712, 1295029, 1331000, 1367631, 1404928, 1442897, 1481544, 1520875, 1560896, 1601613, 1643032, 1685159, 1728000, 1771561, 1815848, 1860867, 1906624, 1953125, 2000376, 2048383, 2097152, 2146689, 2197000, 2248091, 2299968, 2352637, 2406104, 2460375, 2515456, 2571353, 2628072, 2685619, 2744000, 2803221, 2863288, 2924207, 2985984, 3048625, 3112136, 3176523, 3241792, 3307949, 3375000, 3442951, 3511808, 3581577, 3652264, 3723875, 3796416, 3869893, 3944312, 4019679, 4096000, 4173281, 4251528, 4330747, 4410944, 4492125, 4574296, 4657463, 4741632, 4826809, 4913000, 5000211, 5088448, 5177717, 5268024, 5359375, 5451776, 5545233, 5639752, 5735339, 5832000, 5929741, 6028568, 6128487, 6229504, 6331625, 6434856, 6539203, 6644672, 6751269, 6859000, 6967871, 7077888, 7189057, 7301384, 7414875, 7529536, 7645373, 7762392, 7880599, 8000000, 8120601, 8242408, 8365427, 8489664, 8615125, 8741816, 8869743, 8998912, 9129329, 9261000, 9393931, 9528128, 9663597, 9800344, 9938375, 10077696, 10218313, 10360232, 10503459, 10648000, 10793861, 10941048, 11089567, 11239424, 11390625, 11543176, 11697083, 11852352, 12008989, 12167000, 12326391, 12487168, 12649337, 12812904, 12977875, 13144256, 13312053, 13481272, 13651919, 13824000, 13997521, 14172488, 14348907, 14526784, 14706125, 14886936, 15069223, 15252992, 15438249, 15625000, 15813251, 16003008, 16194277, 16387064]\n"
     ]
    }
   ],
   "source": [
    "with mp.Pool(processes=num_procs) as pool:\n",
    "    results = pool.map_async(cube, range(0, 255))  # usamos asynchronous map\n",
    "\n",
    "    output = results.get()  # obtenemos nuestros resultados\n",
    "    print(output)"
   ]
  },
  {
   "cell_type": "markdown",
   "metadata": {},
   "source": [
    "## Project Gutenberg Reader"
   ]
  },
  {
   "cell_type": "markdown",
   "metadata": {},
   "source": [
    "Let's use everything we've learned to tackle one last problem."
   ]
  },
  {
   "cell_type": "markdown",
   "metadata": {},
   "source": [
    "I have consolidated 18,792 books from [Project Gutenberg](https://www.gutenberg.org/) into a large 10GB binary file.\n",
    "\n",
    "Using Python, let's count how many times some very important strings appear in all of these books:\n",
    " - `dog`\n",
    " - `cat`\n",
    " - `girl`\n",
    " - `boy`\n",
    " "
   ]
  },
  {
   "cell_type": "markdown",
   "metadata": {},
   "source": [
    "## Strategy #1 Serialized Code\n",
    "\n",
    "<img src = 'img/single_process_reader.png' >"
   ]
  },
  {
   "cell_type": "code",
   "execution_count": 29,
   "metadata": {},
   "outputs": [
    {
     "name": "stdout",
     "output_type": "stream",
     "text": [
      "1 2 5 10\n",
      "0.008787580999978672\n"
     ]
    }
   ],
   "source": [
    "# ubicación de este archivo\n",
    "f = \"your_path_to/large_text.txt\"\n",
    "\n",
    "\n",
    "# Crea un 'generador' de Python\n",
    "# Lee en un archivo binario grande en trozos de 256k\n",
    "# Procesa cada fragmento y cuenta el recuento de palabras\n",
    "def read_in_chunks(file_object, chunk_size=256 * 1024):\n",
    "    \"\"\"\n",
    "    Función Lazy (generador) para leer un archivo pieza por pieza.\n",
    "    Tamaño de fragmento predeterminado: 256 k.\n",
    "    \"\"\"\n",
    "    while True:\n",
    "        data = file_object.read(chunk_size)\n",
    "        if not data:\n",
    "            break\n",
    "        yield data\n",
    "\n",
    "\n",
    "dogs = 0\n",
    "cats = 0\n",
    "boys = 0\n",
    "girls = 0\n",
    "\n",
    "# Abra el archivo, lea en trozos secuencialmente y cuente el número de instancias de palabras\n",
    "with open(f, \"rb\") as fin:\n",
    "    for chunk in read_in_chunks(fin):\n",
    "        line_list = chunk.decode('latin-1').strip().split()\n",
    "\n",
    "        dogs += line_list.count(\"dog\")\n",
    "        cats += line_list.count(\"cat\")\n",
    "        boys += line_list.count(\"boy\")\n",
    "        girls += line_list.count(\"girl\")\n",
    "        \n",
    "print(dogs, cats, boys, girls)"
   ]
  },
  {
   "cell_type": "markdown",
   "metadata": {},
   "source": [
    "## Strategy #2 Parallelized Workers\n",
    "\n",
    "<img src = 'img/multi_process_reader.png' >"
   ]
  },
  {
   "cell_type": "code",
   "execution_count": 38,
   "metadata": {},
   "outputs": [
    {
     "ename": "FileNotFoundError",
     "evalue": "[Errno 2] No such file or directory: 'your_path_to/large_text.txt'",
     "output_type": "error",
     "traceback": [
      "\u001B[0;31m---------------------------------------------------------------------------\u001B[0m",
      "\u001B[0;31mFileNotFoundError\u001B[0m                         Traceback (most recent call last)",
      "\u001B[0;32m<ipython-input-38-53489dfb8703>\u001B[0m in \u001B[0;36m<module>\u001B[0;34m\u001B[0m\n\u001B[1;32m     45\u001B[0m \u001B[0;34m\u001B[0m\u001B[0m\n\u001B[1;32m     46\u001B[0m \u001B[0;31m# Abra nuestro archivo grande\u001B[0m\u001B[0;34m\u001B[0m\u001B[0;34m\u001B[0m\u001B[0;34m\u001B[0m\u001B[0m\n\u001B[0;32m---> 47\u001B[0;31m \u001B[0;32mwith\u001B[0m \u001B[0mopen\u001B[0m\u001B[0;34m(\u001B[0m\u001B[0mf\u001B[0m\u001B[0;34m,\u001B[0m \u001B[0;34m\"rb\"\u001B[0m\u001B[0;34m)\u001B[0m \u001B[0;32mas\u001B[0m \u001B[0mfin\u001B[0m\u001B[0;34m:\u001B[0m\u001B[0;34m\u001B[0m\u001B[0;34m\u001B[0m\u001B[0m\n\u001B[0m\u001B[1;32m     48\u001B[0m     \u001B[0;31m# Leer en trozos\u001B[0m\u001B[0;34m\u001B[0m\u001B[0;34m\u001B[0m\u001B[0;34m\u001B[0m\u001B[0m\n\u001B[1;32m     49\u001B[0m     \u001B[0mchunks\u001B[0m \u001B[0;34m=\u001B[0m \u001B[0;34m[\u001B[0m\u001B[0mchunk\u001B[0m\u001B[0;34m.\u001B[0m\u001B[0mdecode\u001B[0m\u001B[0;34m(\u001B[0m\u001B[0;34m'latin-1'\u001B[0m\u001B[0;34m)\u001B[0m \u001B[0;32mfor\u001B[0m \u001B[0mchunk\u001B[0m \u001B[0;32min\u001B[0m \u001B[0mread_in_chunks\u001B[0m\u001B[0;34m(\u001B[0m\u001B[0mfin\u001B[0m\u001B[0;34m)\u001B[0m\u001B[0;34m]\u001B[0m\u001B[0;34m\u001B[0m\u001B[0;34m\u001B[0m\u001B[0m\n",
      "\u001B[0;31mFileNotFoundError\u001B[0m: [Errno 2] No such file or directory: 'your_path_to/large_text.txt'"
     ]
    }
   ],
   "source": [
    "from timeit import default_timer as timer\n",
    "import multiprocessing as mp\n",
    "import psutil\n",
    "\n",
    "# un archivo binario grande se divide en trozos que se envían a un grupo de procesos de trabajo\n",
    "# método más rápido\n",
    "\n",
    "# logical =  False (no contamos los núcleos lógicos de SMT)\n",
    "num_procs = psutil.cpu_count(logical=False)\n",
    "\n",
    "# ubicación de nuestros datos\n",
    "f = \"your_path_to/large_text.txt\"\n",
    "\n",
    "# Crea un 'generador' de Python\n",
    "# Lee en un archivo binario grande en trozos de 256k\n",
    "# Procesa cada fragmento y cuenta el recuento de palabras\n",
    "def read_in_chunks(file_object, chunk_size=256 * 1024):\n",
    "    \"\"\"\n",
    "    Función Lazy (generador) para leer un archivo pieza por pieza.\n",
    "    Tamaño de fragmento predeterminado: 256 k.\n",
    "    \"\"\"\n",
    "    while True:\n",
    "        data = file_object.read(chunk_size)\n",
    "        if not data:\n",
    "            break\n",
    "        yield data\n",
    "\n",
    "\n",
    "# Nuestra función de contador\n",
    "def count_objects(chunk):\n",
    "    dogs = 0\n",
    "    cats = 0\n",
    "    boys = 0\n",
    "    girls = 0\n",
    "\n",
    "    line_list = chunk.strip().split()\n",
    "\n",
    "    dogs += line_list.count(\"dog\")\n",
    "    cats += line_list.count(\"cat\")\n",
    "    boys += line_list.count(\"boy\")\n",
    "    girls += line_list.count(\"girl\")\n",
    "\n",
    "    return dogs, cats, boys, girls\n",
    "\n",
    "\n",
    "# Abra nuestro archivo grande\n",
    "with open(f, \"rb\") as fin:\n",
    "    # Leer en trozos\n",
    "    chunks = [chunk.decode('latin-1') for chunk in read_in_chunks(fin)]\n",
    "\n",
    "    \n",
    "# Aquí asignamos nuestra función a los trozos\n",
    "# Nosotros, nuestro grupo de trabajadores, hacemos todo el trabajo duro por nosotros\n",
    "# Sin generación manual de objetos de proceso\n",
    "def multi_read(n):\n",
    "    print('Creating pool with %d processes\\n' % n)\n",
    "    with mp.Pool(n) as p:\n",
    "        results = p.map(count_objects, chunks)\n",
    "    return results\n",
    "\n",
    "results = multi_read(num_procs)\n",
    "\n",
    "all_dogs = 0\n",
    "all_cats = 0\n",
    "all_boys = 0\n",
    "all_girls = 0\n",
    "\n",
    "for dogs, cats, boys, girls in results:\n",
    "    all_dogs += dogs\n",
    "    all_cats += cats\n",
    "    all_boys += boys\n",
    "    all_girls += girls\n",
    "\n",
    "print(all_dogs, all_cats, all_boys, all_girls)"
   ]
  },
  {
   "cell_type": "markdown",
   "metadata": {},
   "source": [
    "While there isn't a 1:1 scaleup, this is a nice speed up!"
   ]
  }
 ],
 "metadata": {
  "kernelspec": {
   "display_name": "Python 3",
   "language": "python",
   "name": "python3"
  },
  "language_info": {
   "codemirror_mode": {
    "name": "ipython",
    "version": 3
   },
   "file_extension": ".py",
   "mimetype": "text/x-python",
   "name": "python",
   "nbconvert_exporter": "python",
   "pygments_lexer": "ipython3",
   "version": "3.7.4"
  }
 },
 "nbformat": 4,
 "nbformat_minor": 2
}