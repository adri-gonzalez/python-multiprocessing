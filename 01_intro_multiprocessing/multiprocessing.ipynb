{
 "cells": [
  {
   "cell_type": "markdown",
   "metadata": {
    "colab_type": "text",
    "id": "LwHphyYT2lo5"
   },
   "source": [
    "# Multiprocessing in Python\n",
    "\n",
    "Introducción al uso de múltiples procesos en Python con la ayuda de la biblioteca de multiprocessing."
   ]
  },
  {
   "cell_type": "markdown",
   "metadata": {},
   "source": [
    "## Introducción teórica\n",
    "\n",
    "### Processes y threads\n",
    "\n",
    "- **Process** es un contexto de ejecución: instrucciones binarias, memoria, recursos.\n",
    "- **Thread** en una unidad de ejecución, tiene procesador virtualizado.\n",
    "- El proceso tiene al menos un hilo, puede tener muchos.\n",
    "- Varios subprocesos comparten recursos en el contexto de un proceso.\n",
    "- Los procesos se ejecutan en espacios de direcciones diferentes.\n",
    "\n",
    "\n",
    "> **Nota importante:** ¡No hay subprocesos múltiples multinúcleo en Python!\n",
    "\n",
    "\n",
    "### Processes y threads en Python\n",
    "  \n",
    "\n",
    "| Processes | Threads |\n",
    "| ---------------------------------------------------------------------- | ---------------------------------------------------------------------- |\n",
    "| - se puede ejecutar en paralelo en Python | - sólo se puede ejecutar simultáneamente en Python (GIL) - no multinúcleo |\n",
    "| - espacio de memoria separado (fácil manejo, comunicaciones más difíciles - IPC) | - espacio de memoria compartida (gestión dura, comunicación sencilla) |\n",
    "| - espacio de memoria más grande (generalmente utilizado en decenas - cientos) | - ligero (se puede utilizar en cientos - miles) |\n",
    "\n",
    "\n",
    "**Los procesos son su única opción para utilizar múltiples núcleos y CPU en Python**\n",
    "\n",
    "\n",
    "---------\n",
    "> **Important note:** In notebooks use if __name__=='__main__': to wrap multiprocessing code, especially Pools.\n",
    "> **Nota importante:** En notebooks use if __name __ == '__ main__': para envolver el código de multiprocessing, especialmente Pools."
   ]
  },
  {
   "cell_type": "markdown",
   "metadata": {},
   "source": [
    "## Uso básico de la biblioteca de multiprocessing\n",
    "En este ejemplo, creamos dos procesos e intentamos operar en la misma lista dentro de ellos."
   ]
  },
  {
   "cell_type": "code",
   "execution_count": 1,
   "metadata": {
    "colab": {
     "autoexec": {
      "startup": false,
      "wait_interval": 0
     },
     "base_uri": "https://localhost:8080/",
     "height": 67,
     "output_extras": [
      {
       "item_id": 1
      }
     ]
    },
    "colab_type": "code",
    "executionInfo": {
     "elapsed": 514,
     "status": "ok",
     "timestamp": 1520171574376,
     "user": {
      "displayName": "Karol Horosin",
      "photoUrl": "https://lh3.googleusercontent.com/a/default-user=s128",
      "userId": "100004662707027644040"
     },
     "user_tz": -60
    },
    "id": "RynK6PXb2QPk",
    "outputId": "b5e19014-74a5-4916-e8fb-d08d3a78d0c8"
   },
   "outputs": [
    {
     "name": "stdout",
     "output_type": "stream",
     "text": [
      "['first', 'hello']\n",
      "['first', 'hello']\n",
      "['first']\n"
     ]
    }
   ],
   "source": [
    "import multiprocessing as mp\n",
    "\n",
    "def func(some_list):\n",
    "  some_list.append(\"hello\")\n",
    "  print(some_list)\n",
    "\n",
    "if __name__ == '__main__':\n",
    "  some_list = ['first']\n",
    "\n",
    "  p1 = mp.Process(target=func, args=(some_list, ))\n",
    "  p2 = mp.Process(target=func, args=(some_list, ))\n",
    "\n",
    "  p1.start()\n",
    "  p2.start()\n",
    "\n",
    "  p1.join()\n",
    "  p2.join()\n",
    "\n",
    "  print(some_list)"
   ]
  },
  {
   "cell_type": "markdown",
   "metadata": {},
   "source": [
    "Como puede ver, los cambios realizados en la lista en los subprocesos no son visibles en el proceso principal. Este es el resultado del hecho de que la memoria se copia en la creación del nuevo proceso. Existen pocas técnicas para compartir información entre procesos.\n",
    "\n",
    "Hagamos algo práctico antes de visitar otras funcionalidades de `multiprocessing`."
   ]
  },
  {
   "cell_type": "markdown",
   "metadata": {},
   "source": [
    "## Ejecutando una tarea para una lista de elementos"
   ]
  },
  {
   "cell_type": "code",
   "execution_count": 2,
   "metadata": {},
   "outputs": [],
   "source": [
    "def same_thing(num):\n",
    "    return num\n",
    "\n",
    "if __name__ == '__main__':\n",
    "    items = [1, 2, 3, 4, 5]\n",
    "    processes = []\n",
    "    for item in items:\n",
    "        proc = mp.Process(target=same_thing, args=(item, ))\n",
    "        proc.start()\n",
    "        processes.append(proc)\n",
    "    for proc in processes:\n",
    "        proc.join()"
   ]
  },
  {
   "cell_type": "markdown",
   "metadata": {
    "colab_type": "text",
    "id": "NNqkHpd39NJw"
   },
   "source": [
    "## Multiprocessing pool - donde comienza la diversión!!\n",
    "Permite una fácil descarga de tareas para 'worker processes'.\n",
    "\n",
    "Funciones de mapa: mantiene el orden de los resultados devueltos. Si no lo necesita, use `imap_unordered` para la optimización. También puede ejecutar tareas de forma asincrónica con la ayuda de apply_async."
   ]
  },
  {
   "cell_type": "code",
   "execution_count": 3,
   "metadata": {
    "colab": {
     "autoexec": {
      "startup": false,
      "wait_interval": 0
     },
     "base_uri": "https://localhost:8080/",
     "height": 221,
     "output_extras": [
      {
       "item_id": 1
      }
     ]
    },
    "colab_type": "code",
    "executionInfo": {
     "elapsed": 808,
     "status": "ok",
     "timestamp": 1520361018399,
     "user": {
      "displayName": "Karol Horosin",
      "photoUrl": "https://lh3.googleusercontent.com/a/default-user=s128",
      "userId": "100004662707027644040"
     },
     "user_tz": -60
    },
    "id": "n0HnYbRP9Vzi",
    "outputId": "6f08970e-3994-4684-ba6f-aa48ae423bd8"
   },
   "outputs": [
    {
     "name": "stdout",
     "output_type": "stream",
     "text": [
      "[0, 1, 4, 9, 16, 25, 36, 49, 64, 81]\n",
      "0\n",
      "1\n",
      "4\n",
      "9\n",
      "25\n",
      "16\n",
      "36\n",
      "64\n",
      "49\n",
      "81\n",
      "0\n",
      "1\n",
      "4\n",
      "9\n",
      "16\n",
      "25\n",
      "36\n",
      "49\n",
      "64\n",
      "81\n"
     ]
    }
   ],
   "source": [
    "from time import sleep\n",
    "import multiprocessing as mp\n",
    "\n",
    "def f_sleep(x):\n",
    "    sleep(2)\n",
    "    return x*x\n",
    "\n",
    "\n",
    "def f(x):\n",
    "    return x*x\n",
    "\n",
    "\n",
    "if __name__ == '__main__':\n",
    "  \n",
    "  with mp.Pool(processes=7) as pool:  # número predeterminado de procesos: os.cpu_count ()\n",
    "    \n",
    "    print(pool.map(f, range(10)))\n",
    "\n",
    "    for i in pool.imap_unordered(f, range(10)):\n",
    "        print(i)\n",
    "        \n",
    "    \n",
    "    # ejecutar tareas de forma asincrónica\n",
    "    tasks = []   \n",
    "    \n",
    "    for i in range(10):\n",
    "        tasks.append(pool.apply_async(f_sleep, args=(i, )))\n",
    "    \n",
    "    # algún otro código\n",
    "\n",
    "    # tiempo de espera si la obtención de resultados tarda demasiado\n",
    "    for i in tasks:\n",
    "        print(i.get(timeout=3))\n",
    "\n",
    "  "
   ]
  },
  {
   "cell_type": "markdown",
   "metadata": {},
   "source": [
    "## Performance - mandelbrot set\n",
    "\"Problema vergonzosamente paralelo\". Vamos a echarle un vistazo para tener una prueba. Si no sabes que es mandelbrot te invito a que lo goolees :)\n",
    "\n",
    "### Standard implementation"
   ]
  },
  {
   "cell_type": "code",
   "execution_count": 4,
   "metadata": {},
   "outputs": [
    {
     "name": "stdout",
     "output_type": "stream",
     "text": [
      "Completed in: 9.271976947784424 seconds\n"
     ]
    },
    {
     "data": {
      "text/plain": [
       "<matplotlib.image.AxesImage at 0x7f876c9e95d0>"
      ]
     },
     "execution_count": 4,
     "metadata": {},
     "output_type": "execute_result"
    },
    {
     "data": {
      "image/png": "[encoded data removed]",
      "text/plain": [
       "<Figure size 720x432 with 1 Axes>"
      ]
     },
     "metadata": {},
     "output_type": "display_data"
    }
   ],
   "source": [
    "import matplotlib.pyplot as plt\n",
    "from functools import partial\n",
    "import time\n",
    "\n",
    "\n",
    "def mandelbrotCalcRow(yPos, h, w, max_iteration = 1000):\n",
    "    y0 = yPos * (2/float(h)) - 1 #cambiar la escala de -1 a 1\n",
    "    row = []\n",
    "    for xPos in range(w):\n",
    "        x0 = xPos * (3.5/float(w)) - 2.5 #cambiar la escala de -2,5 a 1\n",
    "        iteration, z = 0, 0 + 0j\n",
    "        c = complex(x0, y0)\n",
    "        while abs(z) < 2 and iteration < max_iteration:\n",
    "            z = z**2 + c\n",
    "            iteration += 1\n",
    "        row.append(iteration)\n",
    "\n",
    "    return row\n",
    "\n",
    "\n",
    "def mandelbrotCalcSet(h, w, max_iteration = 1000):\n",
    "    partialCalcRow = partial(mandelbrotCalcRow, h=h, w=w, max_iteration = max_iteration)\n",
    "    mandelImg = list(map(partialCalcRow, range(h)))\n",
    "    return mandelImg\n",
    "\n",
    "\n",
    "if __name__ == '__main__':\n",
    "    start_time = time.time()\n",
    "    mandelImg = mandelbrotCalcSet(500, 400, 1000)\n",
    "    print(\"Completed in: %s seconds\" % (time.time() - start_time))\n",
    "    \n",
    "    plt.figure(figsize=(10, 6), facecolor='w', edgecolor='k')\n",
    "plt.imshow(mandelImg,  interpolation='nearest', aspect='auto')"
   ]
  },
  {
   "cell_type": "markdown",
   "metadata": {},
   "source": [
    "### Parallel implementation\n",
    "Usemos un conjunto de procesos para clasificar filas en paralelo."
   ]
  },
  {
   "cell_type": "code",
   "execution_count": 5,
   "metadata": {},
   "outputs": [
    {
     "name": "stdout",
     "output_type": "stream",
     "text": [
      "Completed in: 2.6731181144714355 seconds\n"
     ]
    },
    {
     "data": {
      "image/png": "[encoded data removed]",
      "text/plain": [
       "<Figure size 720x432 with 1 Axes>"
      ]
     },
     "metadata": {},
     "output_type": "display_data"
    }
   ],
   "source": [
    "import multiprocessing as mp\n",
    "\n",
    "\n",
    "def mandelbrotCalcSet(h, w, max_iteration = 1000):\n",
    "\n",
    "    partialCalcRow = partial(mandelbrotCalcRow, h=h, w=w, max_iteration = max_iteration)\n",
    " \n",
    "    pool = mp.Pool(processes=4)\n",
    "    mandelImg = pool.map(partialCalcRow, range(h)) \n",
    "    pool.close()\n",
    "    pool.join()\n",
    " \n",
    "    return mandelImg\n",
    "\n",
    "\n",
    "if __name__ == '__main__':\n",
    "    start_time = time.time()\n",
    "    mandelImg = mandelbrotCalcSet(500, 400, 1000)\n",
    "    print(\"Completed in: %s seconds\" % (time.time() - start_time))\n",
    "    \n",
    "    plt.figure(figsize=(10, 6), facecolor='w', edgecolor='k')\n",
    "    plt.imshow(mandelImg,  interpolation='nearest', aspect='auto')"
   ]
  },
  {
   "cell_type": "markdown",
   "metadata": {},
   "source": [
    "We were able to achieve a significant speed-up."
   ]
  },
  {
   "cell_type": "markdown",
   "metadata": {},
   "source": [
    "## Ejemplo práctico: lectura de csv grande, división, procesamiento\n",
    "Un código como este se usó para procesar 300GB CSV en un proyecto real.\n",
    "\n",
    "### Libs"
   ]
  },
  {
   "cell_type": "code",
   "execution_count": 6,
   "metadata": {},
   "outputs": [],
   "source": [
    "import glob\n",
    "import multiprocessing as mp\n",
    "import os\n",
    "import os.path\n",
    "import pandas as pd\n",
    "\n",
    "import pyarrow as pa\n",
    "import pyarrow.parquet as pq\n",
    "\n",
    "os.makedirs('in_dir', exist_ok=True)\n",
    "os.makedirs('out_dir', exist_ok=True)"
   ]
  },
  {
   "cell_type": "markdown",
   "metadata": {},
   "source": [
    "### Preprocesar el archivo\n",
    "Divida el archivo de entrada en trozos. Chunksize debería ser más como 1e7.(1.0e7 significa 1 con 7 ceros. lo que significa 10,000,000.)"
   ]
  },
  {
   "cell_type": "code",
   "execution_count": 7,
   "metadata": {},
   "outputs": [],
   "source": [
    "# definir las columnas\n",
    "column_names = [\n",
    "    'sepal_length', 'sepal_width', 'petal_length',\n",
    "    'petal_width', 'class_name'\n",
    "]\n",
    "\n",
    "# pd.read_table admite, opcionalmente, iterar o dividir el archivo en trozos.\n",
    "# obtenemos: Un archivo de valores separados por comas (csv) se devuelve como una estructura de datos bidimensional con ejes etiquetados.\n",
    "\n",
    "reader = pd.read_table('iris.data.gz', chunksize=100,\n",
    "                       names=column_names, compression='gzip')\n",
    "\n",
    "for chunk_no, chunk in enumerate(reader):\n",
    "# de lo que obtuvimos en el reader creamos los chunks en diferentes archivos dentro\n",
    "# de la carpeta in_dir\n",
    "    pq.write_table(\n",
    "        pa.Table.from_pandas(chunk),\n",
    "        os.path.join('in_dir', 'iris-{:04d}.parquet'.format(chunk_no)),\n",
    "        compression='snappy'\n",
    "    )"
   ]
  },
  {
   "cell_type": "markdown",
   "metadata": {},
   "source": [
    "### Procesamiento en Paralelo"
   ]
  },
  {
   "cell_type": "code",
   "execution_count": 8,
   "metadata": {},
   "outputs": [],
   "source": [
    "def do_work(filename):\n",
    "    chunk = pq.read_table(filename).to_pandas()\n",
    "    # procesando ...\n",
    "    pq.write_table(pa.Table.from_pandas(chunk),\n",
    "                   filename.replace('in', 'out'),\n",
    "                   compression='snappy')\n",
    "\n",
    "with mp.Pool() as pool:\n",
    "    pool.map(do_work, glob.glob('in_dir/*.parquet'))"
   ]
  },
  {
   "cell_type": "markdown",
   "metadata": {},
   "source": [
    "### Coleccionando los resultos"
   ]
  },
  {
   "cell_type": "code",
   "execution_count": 9,
   "metadata": {},
   "outputs": [],
   "source": [
    "df = pq.read_table('out_dir').to_pandas()\n",
    "# Agregue los resultados al informe final ...\n",
    "df.to_csv('report.txt')"
   ]
  },
  {
   "cell_type": "markdown",
   "metadata": {
    "colab_type": "text",
    "id": "k2nFMcTs8m0d"
   },
   "source": [
    "## Intercambio de datos entre procesos\n",
    "\n",
    "### Pipes\n",
    "- los objetos deben ser picklable\n",
    "- bastante lento\n",
    "- los objetos> 32 MB pueden causar errores\n",
    "- la tubería es básicamente un búfer\n",
    "- los datos pueden corromperse si los procesos escriben en el mismo extremo de la tubería al mismo tiempo\n",
    "- implementado en el sistema operativo\n",
    "- puede ser unidireccional o bidireccional\n",
    "\n",
    "En este ejemplo, intentamos enviar datos del proceso hijo al proceso principal."
   ]
  },
  {
   "cell_type": "code",
   "execution_count": 25,
   "metadata": {
    "colab": {
     "autoexec": {
      "startup": false,
      "wait_interval": 0
     },
     "base_uri": "https://localhost:8080/",
     "height": 34,
     "output_extras": [
      {
       "item_id": 1
      }
     ]
    },
    "colab_type": "code",
    "executionInfo": {
     "elapsed": 619,
     "status": "ok",
     "timestamp": 1520176537071,
     "user": {
      "displayName": "Karol Horosin",
      "photoUrl": "https://lh3.googleusercontent.com/a/default-user=s128",
      "userId": "100004662707027644040"
     },
     "user_tz": -60
    },
    "id": "Hff-PPjn8ZCH",
    "outputId": "54a5ff87-24fc-4df8-f996-8e07d39461cd"
   },
   "outputs": [
    {
     "name": "stdout",
     "output_type": "stream",
     "text": [
      "Hi there, bud!\n",
      "Hi there, bud!\n",
      "Hi there, bud!\n",
      "Hi there, bud!\n",
      "Hi there, bud!\n",
      "Hi there, bud!\n",
      "Hi there, bud!\n",
      "Hi there, bud!\n",
      "Hi there, bud!\n",
      "Hi there, bud!\n"
     ]
    }
   ],
   "source": [
    "def func(conn):\n",
    "    conn.send(\"Hi there, bud!\")\n",
    "    conn.close()\n",
    "    \n",
    "\n",
    "if __name__ == '__main__':\n",
    "\n",
    "  one_end, second_end = mp.Pipe()\n",
    "\n",
    "  for i in range(10):\n",
    "      p = mp.Process(target=func, args=(second_end,))\n",
    "      p.start()\n",
    "      print(one_end.recv())\n",
    "      p.join()"
   ]
  },
  {
   "cell_type": "markdown",
   "metadata": {
    "colab_type": "text",
    "id": "fTdALuPnA69k"
   },
   "source": [
    "### Queue\n",
    "\n",
    "- nivel más alto que las tuberías, más seguro\n",
    "- puede almacenar objetos de Python\n",
    "- lento\n"
   ]
  },
  {
   "cell_type": "code",
   "execution_count": 26,
   "metadata": {
    "colab": {
     "autoexec": {
      "startup": false,
      "wait_interval": 0
     },
     "base_uri": "https://localhost:8080/",
     "height": 34,
     "output_extras": [
      {
       "item_id": 1
      }
     ]
    },
    "colab_type": "code",
    "executionInfo": {
     "elapsed": 673,
     "status": "ok",
     "timestamp": 1520176522330,
     "user": {
      "displayName": "Karol Horosin",
      "photoUrl": "https://lh3.googleusercontent.com/a/default-user=s128",
      "userId": "100004662707027644040"
     },
     "user_tz": -60
    },
    "id": "YneOC88XBDQ1",
    "outputId": "2baa0bd1-c7e7-43b9-8c77-375bab711e5e"
   },
   "outputs": [
    {
     "name": "stdout",
     "output_type": "stream",
     "text": [
      "['An answer is 42']\n"
     ]
    }
   ],
   "source": [
    "def func(results):\n",
    "    results.put([\"An answer is 42\"])\n",
    "    \n",
    "if __name__ == '__main__':\n",
    "\n",
    "  results = mp.Queue()\n",
    "\n",
    "  p1 = mp.Process(target=func, args=(results, ))\n",
    "  p1.start()\n",
    "  p1.join()\n",
    "\n",
    "  print(results.get())"
   ]
  },
  {
   "cell_type": "markdown",
   "metadata": {
    "colab_type": "text",
    "id": "p9tNVc8_8rHG"
   },
   "source": [
    "## Sincronizacion\n",
    "\n",
    "Para ilustrar los mecanismos de sincronización, utilizamos la memoria compartida que se explica más adelante en este notebook.\n",
    "\n",
    "### Ejemplo Trivial \n",
    "\n",
    "A veces queremos asegurarnos de que varios procesos no utilicen algunos recursos al mismo tiempo. En este ejemplo, los procesos están esperando que se libere el bloqueo para no confundir su salida.\n",
    "\n",
    "Otros ejemplos: base de datos, archivos."
   ]
  },
  {
   "cell_type": "code",
   "execution_count": 27,
   "metadata": {
    "colab": {
     "autoexec": {
      "startup": false,
      "wait_interval": 0
     },
     "base_uri": "https://localhost:8080/",
     "height": 101,
     "output_extras": [
      {
       "item_id": 1
      }
     ]
    },
    "colab_type": "code",
    "executionInfo": {
     "elapsed": 641,
     "status": "ok",
     "timestamp": 1520169728588,
     "user": {
      "displayName": "Karol Horosin",
      "photoUrl": "https://lh3.googleusercontent.com/a/default-user=s128",
      "userId": "100004662707027644040"
     },
     "user_tz": -60
    },
    "id": "WeB51fVf8uXP",
    "outputId": "8a23e52b-b3b6-47eb-dcb1-c7861a3328bf"
   },
   "outputs": [
    {
     "name": "stdout",
     "output_type": "stream",
     "text": [
      "hello world 0\n",
      "hello world 1\n"
     ]
    }
   ],
   "source": [
    "import multiprocessing as mp\n",
    "\n",
    "def f(lock, i):\n",
    "    lock.acquire()\n",
    "    try:\n",
    "        print('hello world', i)\n",
    "    finally:\n",
    "        lock.release()\n",
    "\n",
    "if __name__ == '__main__':\n",
    "    lock = mp.Lock()\n",
    "\n",
    "    for num in range(2):\n",
    "        mp.Process(target=f, args=(lock, num)).start()"
   ]
  },
  {
   "cell_type": "markdown",
   "metadata": {
    "colab_type": "text",
    "id": "6dNCQ0Yh8uq2"
   },
   "source": [
    "## Compartiendo estado\n",
    "\n",
    "En general, debe diseñar su software para evitar compartir memoria entre procesos. Si el caso de uso lo requiere, el multiprocesamiento proporciona una forma de compartir espacios de memoria."
   ]
  },
  {
   "cell_type": "markdown",
   "metadata": {
    "colab_type": "text",
    "id": "Dv2YLg5pLgcy"
   },
   "source": [
    "### Memoria compartida\n",
    "\n",
    "- usa una representación de memoria similar a c, solo hay matrices y valores.\n",
    "- ver multiprocessing.csharedtypes para más\n",
    "- ver recursos para usar con matrices numpy"
   ]
  },
  {
   "cell_type": "code",
   "execution_count": 13,
   "metadata": {
    "colab": {
     "autoexec": {
      "startup": false,
      "wait_interval": 0
     },
     "base_uri": "https://localhost:8080/",
     "height": 51,
     "output_extras": [
      {
       "item_id": 1
      }
     ]
    },
    "colab_type": "code",
    "executionInfo": {
     "elapsed": 557,
     "status": "ok",
     "timestamp": 1520169822578,
     "user": {
      "displayName": "Karol Horosin",
      "photoUrl": "https://lh3.googleusercontent.com/a/default-user=s128",
      "userId": "100004662707027644040"
     },
     "user_tz": -60
    },
    "id": "YWg1kFav9XN6",
    "outputId": "226086ed-0c8c-46be-9e4f-0e128ce751ff"
   },
   "outputs": [
    {
     "name": "stdout",
     "output_type": "stream",
     "text": [
      "3.1415927\n",
      "[0, -1, -2, -3, -4, -5, -6, -7, -8, -9]\n"
     ]
    }
   ],
   "source": [
    "\n",
    "def f(n, a, lock):\n",
    "    lock.acquire()\n",
    "    n.value = 3.1415927\n",
    "    for i in range(len(a)):\n",
    "        a[i] = -a[i]\n",
    "    lock.release()\n",
    "\n",
    "if __name__ == '__main__':\n",
    "    num = mp.Value('d', 0.0)\n",
    "    arr = mp.Array('i', range(10))\n",
    "    lock = mp.Lock()\n",
    "\n",
    "    p = mp.Process(target=f, args=(num, arr, lock))\n",
    "    p.start()\n",
    "    p.join()\n",
    "\n",
    "    print(num.value)\n",
    "    print(arr[:])"
   ]
  },
  {
   "cell_type": "markdown",
   "metadata": {},
   "source": [
    "### Por qué es importante Lock?\n",
    "\n",
    "El acceso no supervisado a los recursos compartidos puede provocar un comportamiento inesperado, como el que se presenta a continuación. En teoría, deberíamos sumar 1 al valor de `num` 2000 veces, lo que da como resultado que` num` sea igual a 2000 y cambiar el signo de los elementos de la matriz` arr` 2000 veces, dejándolos positivos. Cuando ejecute la celda de abajo, debería notar que el valor `num` es más bajo y los elementos` arr` tienen diferentes signos. Consulte \"Estado de intercambio\" a continuación para obtener más información sobre las clases Value y Array."
   ]
  },
  {
   "cell_type": "code",
   "execution_count": 14,
   "metadata": {},
   "outputs": [
    {
     "name": "stdout",
     "output_type": "stream",
     "text": [
      "100.0\n",
      "[0, 1, 2, 3, 4, 5, 6, 7, 8, 9]\n"
     ]
    }
   ],
   "source": [
    "import multiprocessing as mp\n",
    "\n",
    "\n",
    "def f(n, a):\n",
    "    n.value += 1;\n",
    "    for i in range(len(a)):\n",
    "        a[i] = -a[i]\n",
    "\n",
    "        \n",
    "if __name__ == '__main__':\n",
    "    num = mp.Value('d', 0.0)\n",
    "    arr = mp.Array('i', range(10))\n",
    "\n",
    "    processes = []\n",
    "    \n",
    "    for i in range(1, 101):\n",
    "        p = mp.Process(target=f, args=(num, arr))\n",
    "        p.start()\n",
    "        processes.append(p)\n",
    "\n",
    "    for proc in processes:\n",
    "        proc.join()\n",
    "\n",
    "    print(num.value)\n",
    "    print(arr[:])\n",
    "    "
   ]
  },
  {
   "cell_type": "markdown",
   "metadata": {},
   "source": [
    "### Proceso del servidor\n",
    "\n",
    "Menos rendimiento, pero se puede utilizar con cualquier objeto pickable.\n"
   ]
  },
  {
   "cell_type": "code",
   "execution_count": 15,
   "metadata": {},
   "outputs": [
    {
     "name": "stdout",
     "output_type": "stream",
     "text": [
      "{1: '1', '2': 2, 0.25: None}\n",
      "[9, 8, 7, 6, 5, 4, 3, 2, 1, 0]\n"
     ]
    }
   ],
   "source": [
    "from multiprocessing import Process, Manager\n",
    "\n",
    "def f(d, l):\n",
    "    d[1] = '1'\n",
    "    d['2'] = 2\n",
    "    d[0.25] = None\n",
    "    l.reverse()\n",
    "\n",
    "if __name__ == '__main__':\n",
    "    with Manager() as manager:\n",
    "        d = manager.dict()\n",
    "        l = manager.list(range(10))\n",
    "\n",
    "        p = Process(target=f, args=(d, l))\n",
    "        p.start()\n",
    "        p.join()\n",
    "\n",
    "        print(d)\n",
    "        print(l)"
   ]
  },
  {
   "cell_type": "markdown",
   "metadata": {
    "colab_type": "text",
    "id": "lkbLGyfK8Xod",
    "pycharm": {
     "name": "#%% md\n"
    }
   },
   "source": [
    "## Resources\n",
    "- Documentacion: [python docs](https://docs.python.org/3.6/library/multiprocessing.html)"
   ]
  }
 ],
 "metadata": {
  "colab": {
   "collapsed_sections": [],
   "default_view": {},
   "name": "multiprocessing.ipynb",
   "provenance": [],
   "version": "0.3.2",
   "views": {}
  },
  "kernelspec": {
   "display_name": "Python 3",
   "language": "python",
   "name": "python3"
  },
  "language_info": {
   "codemirror_mode": {
    "name": "ipython",
    "version": 3
   },
   "file_extension": ".py",
   "mimetype": "text/x-python",
   "name": "python",
   "nbconvert_exporter": "python",
   "pygments_lexer": "ipython3",
   "version": "3.7.4"
  }
 },
 "nbformat": 4,
 "nbformat_minor": 1
}